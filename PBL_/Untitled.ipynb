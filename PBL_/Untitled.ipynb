{
 "cells": [
  {
   "cell_type": "code",
   "execution_count": 2,
   "metadata": {},
   "outputs": [
    {
     "name": "stdout",
     "output_type": "stream",
     "text": [
      " * Serving Flask app \"__main__\" (lazy loading)\n",
      " * Environment: production\n",
      "   WARNING: This is a development server. Do not use it in a production deployment.\n",
      "   Use a production WSGI server instead.\n",
      " * Debug mode: off\n"
     ]
    },
    {
     "name": "stderr",
     "output_type": "stream",
     "text": [
      " * Running on http://127.0.0.1:5000/ (Press CTRL+C to quit)\n"
     ]
    }
   ],
   "source": [
    "\n",
    "\n",
    "\n",
    "from flask import Flask, render_template_string, request, session, redirect\n",
    "from werkzeug import MultiDict\n",
    "\n",
    "from flask_wtf import FlaskForm\n",
    "from wtforms import StringField, IntegerField\n",
    "from wtforms.validators import AnyOf\n",
    "\n",
    "app = Flask(__name__)\n",
    "app.secret_key = 'secret'\n",
    "\n",
    "class MyForm(FlaskForm):\n",
    "    name = StringField('name', validators=[AnyOf(['secretname'])])\n",
    "\n",
    "@app.route('/', methods=['POST', 'GET'])\n",
    "def form():\n",
    "    form = MyForm()\n",
    "    html = '''\n",
    "    {% for error in form.name.errors %} <span>{{ error }}</span> {% endfor %}\n",
    "    <form method=\"POST\" action=\"/\">\n",
    "        {{ form.csrf_token }}\n",
    "        {{ form.name.label }} {{ form.name(size=20) }}\n",
    "        <input type=\"submit\" value=\"Go\">\n",
    "    </form>\n",
    "    '''\n",
    "\n",
    "    if request.method == 'GET':\n",
    "        formdata = session.get('formdata', None)\n",
    "        print(formdata)\n",
    "        #print(form.name.errors)\n",
    "        if formdata:\n",
    "            form = MyForm(MultiDict(formdata))\n",
    "            form.validate()\n",
    "            session.pop('formdata')\n",
    "        return render_template_string(html, form=form)\n",
    "\n",
    "    if form.validate_on_submit():\n",
    "        # use the form somehow\n",
    "        # ...\n",
    "        return redirect('/#registered')\n",
    "\n",
    "    if form.is_submitted() and not form.validate():\n",
    "        session['formdata'] = request.form\n",
    "        return redirect('/#invalid')\n",
    "\n",
    "if __name__ == \"__main__\":\n",
    "    app.run()\n",
    "                    \n"
   ]
  },
  {
   "cell_type": "code",
   "execution_count": 5,
   "metadata": {},
   "outputs": [],
   "source": [
    "import streamlit as st\n"
   ]
  },
  {
   "cell_type": "code",
   "execution_count": null,
   "metadata": {},
   "outputs": [],
   "source": [
    "\n",
    "def main():\n",
    "    \"\"\"streamlit app\"\"\"\n",
    "    c=\"\"\"import streamlit as st\n",
    "    st.play()\n",
    "    \"\"\"\n",
    "    st.code(c,language='python')\n",
    "    age = st.slider('How old are you?', 0, 130, 25)\n",
    "    st.write(\"I'm \", age, 'years old')\n",
    "    \n",
    "    st.spinner(\"in progress..\")\n",
    "    st.text_area(label, value='', height=130, max_chars=700, key=None)\n",
    "    \n",
    "    \n",
    "    video_file = open('C:\\User\\DELL\\Videos\\Ant-man-and-wasp', 'rb')\n",
    "    video_bytes = video_file.read()\n",
    "    st.video(video_bytes)\n",
    "\n",
    "if __name__=-'__main__':\n",
    "    main()"
   ]
  },
  {
   "cell_type": "code",
   "execution_count": 7,
   "metadata": {},
   "outputs": [],
   "source": [
    "import collections as c"
   ]
  },
  {
   "cell_type": "code",
   "execution_count": null,
   "metadata": {},
   "outputs": [],
   "source": [
    "c.OrderedDict"
   ]
  }
 ],
 "metadata": {
  "kernelspec": {
   "display_name": "Python 3",
   "language": "python",
   "name": "python3"
  },
  "language_info": {
   "codemirror_mode": {
    "name": "ipython",
    "version": 3
   },
   "file_extension": ".py",
   "mimetype": "text/x-python",
   "name": "python",
   "nbconvert_exporter": "python",
   "pygments_lexer": "ipython3",
   "version": "3.8.3"
  }
 },
 "nbformat": 4,
 "nbformat_minor": 4
}
